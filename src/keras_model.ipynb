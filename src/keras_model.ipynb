{
 "cells": [
  {
   "cell_type": "code",
   "execution_count": 6,
   "metadata": {},
   "outputs": [],
   "source": [
    "import numpy as np\n",
    "import pandas as pd"
   ]
  },
  {
   "cell_type": "code",
   "execution_count": 7,
   "metadata": {},
   "outputs": [
    {
     "name": "stdout",
     "output_type": "stream",
     "text": [
      "../data/driver_imgs_list.csv\n"
     ]
    }
   ],
   "source": [
    "path='../data/'\n",
    "list_path= path+'driver_imgs_list.csv'\n",
    "print(list_path)\n",
    "image_dataset = pd.read_csv(list_path)"
   ]
  },
  {
   "cell_type": "code",
   "execution_count": 8,
   "metadata": {},
   "outputs": [
    {
     "data": {
      "text/html": [
       "<div>\n",
       "<style scoped>\n",
       "    .dataframe tbody tr th:only-of-type {\n",
       "        vertical-align: middle;\n",
       "    }\n",
       "\n",
       "    .dataframe tbody tr th {\n",
       "        vertical-align: top;\n",
       "    }\n",
       "\n",
       "    .dataframe thead th {\n",
       "        text-align: right;\n",
       "    }\n",
       "</style>\n",
       "<table border=\"1\" class=\"dataframe\">\n",
       "  <thead>\n",
       "    <tr style=\"text-align: right;\">\n",
       "      <th></th>\n",
       "      <th>subject</th>\n",
       "      <th>classname</th>\n",
       "      <th>img</th>\n",
       "    </tr>\n",
       "  </thead>\n",
       "  <tbody>\n",
       "    <tr>\n",
       "      <th>0</th>\n",
       "      <td>p002</td>\n",
       "      <td>c0</td>\n",
       "      <td>img_44733.jpg</td>\n",
       "    </tr>\n",
       "    <tr>\n",
       "      <th>1</th>\n",
       "      <td>p002</td>\n",
       "      <td>c0</td>\n",
       "      <td>img_72999.jpg</td>\n",
       "    </tr>\n",
       "    <tr>\n",
       "      <th>2</th>\n",
       "      <td>p002</td>\n",
       "      <td>c0</td>\n",
       "      <td>img_25094.jpg</td>\n",
       "    </tr>\n",
       "    <tr>\n",
       "      <th>3</th>\n",
       "      <td>p002</td>\n",
       "      <td>c0</td>\n",
       "      <td>img_69092.jpg</td>\n",
       "    </tr>\n",
       "    <tr>\n",
       "      <th>4</th>\n",
       "      <td>p002</td>\n",
       "      <td>c0</td>\n",
       "      <td>img_92629.jpg</td>\n",
       "    </tr>\n",
       "  </tbody>\n",
       "</table>\n",
       "</div>"
      ],
      "text/plain": [
       "  subject classname            img\n",
       "0    p002        c0  img_44733.jpg\n",
       "1    p002        c0  img_72999.jpg\n",
       "2    p002        c0  img_25094.jpg\n",
       "3    p002        c0  img_69092.jpg\n",
       "4    p002        c0  img_92629.jpg"
      ]
     },
     "execution_count": 8,
     "metadata": {},
     "output_type": "execute_result"
    }
   ],
   "source": [
    "image_dataset.head()\n"
   ]
  },
  {
   "cell_type": "code",
   "execution_count": 9,
   "metadata": {},
   "outputs": [],
   "source": [
    "x=image_dataset['img']\n",
    "y=image_dataset['classname']"
   ]
  },
  {
   "cell_type": "code",
   "execution_count": 10,
   "metadata": {},
   "outputs": [],
   "source": [
    "from sklearn.model_selection import train_test_split\n",
    "x_train, x_val, y_train, y_val = train_test_split(x,y,test_size = 0.20,train_size =0.80,random_state=43)"
   ]
  },
  {
   "cell_type": "code",
   "execution_count": 11,
   "metadata": {},
   "outputs": [
    {
     "data": {
      "text/plain": [
       "4485"
      ]
     },
     "execution_count": 11,
     "metadata": {},
     "output_type": "execute_result"
    }
   ],
   "source": [
    "type(x_train)\n",
    "y_val.size"
   ]
  },
  {
   "cell_type": "code",
   "execution_count": 12,
   "metadata": {},
   "outputs": [],
   "source": [
    "import os\n",
    "import shutil\n",
    "for i in range(0,x_train.size):\n",
    "    cr_path ='../train/' + y_train.iloc[i] + '/'\n",
    "    if (not os.path.exists(cr_path)):\n",
    "        os.makedirs(cr_path)\n",
    "    shutil.copyfile('../data/imgs/train/' + y_train.iloc[i] + '/' + x_train.iloc[i], '../train/' + y_train.iloc[i] + '/' + x_train.iloc[i])\n"
   ]
  },
  {
   "cell_type": "code",
   "execution_count": 13,
   "metadata": {},
   "outputs": [],
   "source": [
    "for i in range(0,x_val.size):\n",
    "    cr_path ='../validation/' + y_val.iloc[i] + '/'\n",
    "    if (not os.path.exists(cr_path)):\n",
    "        os.makedirs(cr_path)\n",
    "    shutil.copyfile('../data/imgs/train/' + y_val.iloc[i] + '/' + x_val.iloc[i], '../validation/' + y_val.iloc[i] + '/' + x_val.iloc[i])\n"
   ]
  },
  {
   "cell_type": "code",
   "execution_count": 14,
   "metadata": {},
   "outputs": [],
   "source": [
    "from keras.preprocessing.image import ImageDataGenerator\n",
    "image_data_generator=ImageDataGenerator(\n",
    "                        rescale=1./255,\n",
    "                        shear_range=0.2,\n",
    "                        zoom_range=0.2,\n",
    "                        horizontal_flip=True)"
   ]
  },
  {
   "cell_type": "code",
   "execution_count": null,
   "metadata": {},
   "outputs": [],
   "source": []
  },
  {
   "cell_type": "code",
   "execution_count": 15,
   "metadata": {},
   "outputs": [
    {
     "name": "stdout",
     "output_type": "stream",
     "text": [
      "Found 17939 images belonging to 10 classes.\n"
     ]
    }
   ],
   "source": [
    "train_generator = image_data_generator.flow_from_directory(\n",
    "        '../train',\n",
    "        target_size=(32, 32),\n",
    "        batch_size=32,\n",
    "        class_mode='categorical')"
   ]
  },
  {
   "cell_type": "code",
   "execution_count": 16,
   "metadata": {},
   "outputs": [
    {
     "name": "stdout",
     "output_type": "stream",
     "text": [
      "Found 4485 images belonging to 10 classes.\n"
     ]
    }
   ],
   "source": [
    "test_datagenerator = ImageDataGenerator(rescale=1./255)\n",
    "validation_generator = test_datagenerator.flow_from_directory(\n",
    "        '../validation',\n",
    "        target_size=(32, 32),\n",
    "        batch_size=32,\n",
    "        class_mode='categorical')"
   ]
  },
  {
   "cell_type": "code",
   "execution_count": 17,
   "metadata": {},
   "outputs": [],
   "source": [
    "from keras.models import Sequential\n",
    "from keras import regularizers, optimizers\n",
    "from keras.layers import Conv2D, MaxPooling2D\n",
    "from keras.layers import Activation, Dropout, Flatten, Dense\n",
    "model = Sequential()\n",
    "model.add(Conv2D(32, (3, 3), padding='same',\n",
    "                 input_shape=(32,32,3)))\n",
    "model.add(Activation('relu'))\n",
    "model.add(Conv2D(32, (3, 3)))\n",
    "model.add(Activation('relu'))\n",
    "model.add(MaxPooling2D(pool_size=(2, 2)))\n",
    "model.add(Dropout(0.25))\n",
    "model.add(Conv2D(64, (3, 3), padding='same'))\n",
    "model.add(Activation('relu'))\n",
    "model.add(Conv2D(64, (3, 3)))\n",
    "model.add(Activation('relu'))\n",
    "model.add(MaxPooling2D(pool_size=(2, 2)))\n",
    "model.add(Dropout(0.25))\n",
    "model.add(Flatten())\n",
    "model.add(Dense(512))\n",
    "model.add(Activation('relu'))\n",
    "model.add(Dropout(0.5))\n",
    "model.add(Dense(10, activation='softmax'))\n",
    "model.compile(optimizers.rmsprop(lr=0.0001, decay=1e-6),loss=\"categorical_crossentropy\",metrics=[\"accuracy\"])"
   ]
  },
  {
   "cell_type": "code",
   "execution_count": 18,
   "metadata": {},
   "outputs": [
    {
     "name": "stdout",
     "output_type": "stream",
     "text": [
      "Epoch 1/10\n",
      "2000/2000 [==============================] - 552s 276ms/step - loss: 1.8597 - acc: 0.3257 - val_loss: 1.1298 - val_acc: 0.6567\n",
      "Epoch 2/10\n",
      "2000/2000 [==============================] - 560s 280ms/step - loss: 1.1099 - acc: 0.6163 - val_loss: 0.5574 - val_acc: 0.8391\n",
      "Epoch 3/10\n",
      "2000/2000 [==============================] - 521s 260ms/step - loss: 0.7396 - acc: 0.7499 - val_loss: 0.3312 - val_acc: 0.9180\n",
      "Epoch 4/10\n",
      "2000/2000 [==============================] - 503s 252ms/step - loss: 0.5622 - acc: 0.8160 - val_loss: 0.2393 - val_acc: 0.9381\n",
      "Epoch 5/10\n",
      "2000/2000 [==============================] - 515s 258ms/step - loss: 0.4541 - acc: 0.8545 - val_loss: 0.1992 - val_acc: 0.9494\n",
      "Epoch 6/10\n",
      "2000/2000 [==============================] - 732s 366ms/step - loss: 0.3848 - acc: 0.8788 - val_loss: 0.1506 - val_acc: 0.9664\n",
      "Epoch 7/10\n",
      "2000/2000 [==============================] - 538s 269ms/step - loss: 0.3450 - acc: 0.8914 - val_loss: 0.1379 - val_acc: 0.9655\n",
      "Epoch 8/10\n",
      "2000/2000 [==============================] - 540s 270ms/step - loss: 0.3123 - acc: 0.9028 - val_loss: 0.1199 - val_acc: 0.9735\n",
      "Epoch 9/10\n",
      "2000/2000 [==============================] - 527s 263ms/step - loss: 0.2891 - acc: 0.9107 - val_loss: 0.1180 - val_acc: 0.9741\n",
      "Epoch 10/10\n",
      "2000/2000 [==============================] - 550s 275ms/step - loss: 0.2727 - acc: 0.9163 - val_loss: 0.1120 - val_acc: 0.9749\n"
     ]
    }
   ],
   "source": [
    "steps_per_epoch_array = [100,200,300,1000,2000]\n",
    "epochs_array = [10,20,30,40,50]\n",
    "validation_steps_array=[100,200,300,400,800]\n",
    "history=model.fit_generator(\n",
    "        train_generator,\n",
    "        steps_per_epoch=steps_per_epoch_array[4],\n",
    "        epochs=epochs_array[0],\n",
    "        validation_data=validation_generator,\n",
    "        validation_steps=validation_steps_array[4])"
   ]
  },
  {
   "cell_type": "code",
   "execution_count": 22,
   "metadata": {},
   "outputs": [],
   "source": [
    "model.metrics_names\n",
    "result=model.evaluate_generator(generator=validation_generator,steps=4485)"
   ]
  },
  {
   "cell_type": "code",
   "execution_count": 23,
   "metadata": {},
   "outputs": [
    {
     "name": "stdout",
     "output_type": "stream",
     "text": [
      "Model loss is 0.112350 accuracy is 0.975094 \n"
     ]
    }
   ],
   "source": [
    "print(\"Model loss is %f accuracy is %f \"%(result[0],result[1]))"
   ]
  },
  {
   "cell_type": "code",
   "execution_count": 21,
   "metadata": {},
   "outputs": [
    {
     "name": "stdout",
     "output_type": "stream",
     "text": [
      "dict_keys(['val_loss', 'val_acc', 'loss', 'acc'])\n"
     ]
    },
    {
     "data": {
      "image/png": "[encoded data removed]",
      "text/plain": [
       "<Figure size 432x288 with 1 Axes>"
      ]
     },
     "metadata": {},
     "output_type": "display_data"
    },
    {
     "data": {
      "image/png": "[encoded data removed]",
      "text/plain": [
       "<Figure size 432x288 with 1 Axes>"
      ]
     },
     "metadata": {},
     "output_type": "display_data"
    }
   ],
   "source": [
    "import matplotlib.pyplot as plt\n",
    "print(history.history.keys())\n",
    "# summarize history for accuracy\n",
    "plt.plot(history.history['acc'])\n",
    "plt.plot(history.history['val_acc'])\n",
    "plt.title('model accuracy')\n",
    "plt.ylabel('accuracy')\n",
    "plt.xlabel('epoch')\n",
    "plt.legend(['train', 'test'], loc='upper left')\n",
    "plt.show()\n",
    "# summarize history for loss\n",
    "plt.plot(history.history['loss'])\n",
    "plt.plot(history.history['val_loss'])\n",
    "plt.title('model loss')\n",
    "plt.ylabel('loss')\n",
    "plt.xlabel('epoch')\n",
    "plt.legend(['train', 'test'], loc='upper left')\n",
    "plt.show()"
   ]
  },
  {
   "cell_type": "code",
   "execution_count": 24,
   "metadata": {},
   "outputs": [],
   "source": [
    "from keras.models import load_model\n",
    "\n",
    "model.save('model_using_keras.h5')\n"
   ]
  },
  {
   "cell_type": "code",
   "execution_count": 2,
   "metadata": {},
   "outputs": [
    {
     "name": "stderr",
     "output_type": "stream",
     "text": [
      "/Users/manishashivshette/anaconda3/lib/python3.6/site-packages/h5py/__init__.py:36: FutureWarning: Conversion of the second argument of issubdtype from `float` to `np.floating` is deprecated. In future, it will be treated as `np.float64 == np.dtype(float).type`.\n",
      "  from ._conv import register_converters as _register_converters\n",
      "Using TensorFlow backend.\n"
     ]
    }
   ],
   "source": [
    "from keras.models import load_model\n",
    "\n",
    "s_model = load_model('model_using_keras.h5')"
   ]
  },
  {
   "cell_type": "code",
   "execution_count": 26,
   "metadata": {},
   "outputs": [
    {
     "name": "stdout",
     "output_type": "stream",
     "text": [
      "(1, 32, 32, 3)\n"
     ]
    }
   ],
   "source": [
    "from keras.preprocessing.image import load_img\n",
    "from keras.preprocessing.image import img_to_array\n",
    "from keras.applications import imagenet_utils\n",
    "\n",
    "path = \"../data/imgs/test/img_1.jpg\"\n",
    "image = load_img(path, target_size=(32,32))\n",
    "\n",
    "image_arr = img_to_array(image) # convert from PIL Image to NumPy array\n",
    "# the dimensions of image should now be (150, 150, 3)\n",
    "\n",
    "# to be able to pass it through the network and use batches, we want it with shape (1, 150, 150, 3)\n",
    "image_arr = np.expand_dims(image_arr, axis=0)\n",
    "print(image_arr.shape)\n",
    "\n",
    "image_arr /= 255"
   ]
  },
  {
   "cell_type": "code",
   "execution_count": 27,
   "metadata": {},
   "outputs": [
    {
     "name": "stdout",
     "output_type": "stream",
     "text": [
      "[[1.3718130e-07 1.0541603e-09 1.7206160e-07 6.9586036e-08 1.5577081e-08\n",
      "  9.9999952e-01 9.3958441e-09 7.6260044e-08 5.5912242e-08 1.5425819e-08]]\n"
     ]
    }
   ],
   "source": [
    "prediction_array = s_model.predict(image_arr)\n",
    "print(prediction_array)"
   ]
  },
  {
   "cell_type": "code",
   "execution_count": 28,
   "metadata": {},
   "outputs": [
    {
     "name": "stdout",
     "output_type": "stream",
     "text": [
      "5\n"
     ]
    }
   ],
   "source": [
    "answer = np.argmax(prediction_array)\n",
    "print(answer)"
   ]
  },
  {
   "cell_type": "code",
   "execution_count": 29,
   "metadata": {},
   "outputs": [],
   "source": [
    "def get_prediction_class(answer):  \n",
    "    if answer == 0:\n",
    "        result=\"c0\"\n",
    "    elif answer == 1:\n",
    "        result=\"c1\"\n",
    "    elif answer == 2:\n",
    "        result=\"c2\"\n",
    "    elif answer == 3:\n",
    "        result=\"c3\"\n",
    "    elif answer == 4:\n",
    "        result=\"c4\"\n",
    "    elif answer == 5:\n",
    "        result=\"c5\"\n",
    "    elif answer == 6:\n",
    "        result=\"c6\"\n",
    "    elif answer == 7:\n",
    "        result=\"c7\"\n",
    "    elif answer == 8:\n",
    "        result=\"c8\"\n",
    "    elif answer == 9:\n",
    "        result=\"c9\"\n",
    "    return result\n"
   ]
  },
  {
   "cell_type": "code",
   "execution_count": 30,
   "metadata": {},
   "outputs": [],
   "source": [
    "val_array = []\n",
    "for i in range(0,x_val.size):\n",
    "    image_path ='../validation/' + y_val.iloc[i] + '/' + x_val.iloc[i]\n",
    "    image = load_img(image_path, target_size=(32,32))\n",
    "\n",
    "    image_arr = img_to_array(image) \n",
    "\n",
    "    image_arr = np.expand_dims(image_arr, axis=0)\n",
    "    image_arr /= 255\n",
    "    prediction_array = s_model.predict(image_arr)\n",
    "    answer = np.argmax(prediction_array)\n",
    "    answer = get_prediction_class(answer)\n",
    "    val_array.append(answer)"
   ]
  },
  {
   "cell_type": "code",
   "execution_count": 31,
   "metadata": {},
   "outputs": [
    {
     "name": "stdout",
     "output_type": "stream",
     "text": [
      "4485\n",
      "18393    c7\n",
      "21337    c6\n",
      "19448    c0\n",
      "12949    c3\n",
      "3984     c6\n",
      "Name: classname, dtype: object\n",
      "['c7', 'c6', 'c0', 'c3', 'c6']\n"
     ]
    }
   ],
   "source": [
    "print(len(val_array))\n",
    "print(y_val[0:5])\n",
    "print(val_array[0:5])"
   ]
  },
  {
   "cell_type": "code",
   "execution_count": 33,
   "metadata": {},
   "outputs": [
    {
     "name": "stdout",
     "output_type": "stream",
     "text": [
      "accuracy of model: 0.979933110367893\n"
     ]
    }
   ],
   "source": [
    "from sklearn import metrics\n",
    "print(\"accuracy of model:\",metrics.accuracy_score(y_val,val_array))"
   ]
  },
  {
   "cell_type": "code",
   "execution_count": null,
   "metadata": {},
   "outputs": [],
   "source": []
  }
 ],
 "metadata": {
  "kernelspec": {
   "display_name": "Python 3",
   "language": "python",
   "name": "python3"
  },
  "language_info": {
   "codemirror_mode": {
    "name": "ipython",
    "version": 3
   },
   "file_extension": ".py",
   "mimetype": "text/x-python",
   "name": "python",
   "nbconvert_exporter": "python",
   "pygments_lexer": "ipython3",
   "version": "3.6.5"
  }
 },
 "nbformat": 4,
 "nbformat_minor": 2
}
